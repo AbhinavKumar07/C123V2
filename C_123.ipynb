{
  "nbformat": 4,
  "nbformat_minor": 0,
  "metadata": {
    "colab": {
      "provenance": [],
      "authorship_tag": "ABX9TyPZ9mXm9KkGaWd+wn4X143T",
      "include_colab_link": true
    },
    "kernelspec": {
      "name": "python3",
      "display_name": "Python 3"
    },
    "language_info": {
      "name": "python"
    }
  },
  "cells": [
    {
      "cell_type": "markdown",
      "metadata": {
        "id": "view-in-github",
        "colab_type": "text"
      },
      "source": [
        "<a href=\"https://colab.research.google.com/github/AbhinavKumar07/C123V2/blob/main/C_123.ipynb\" target=\"_parent\"><img src=\"https://colab.research.google.com/assets/colab-badge.svg\" alt=\"Open In Colab\"/></a>"
      ]
    },
    {
      "cell_type": "code",
      "execution_count": 10,
      "metadata": {
        "id": "eppAuX3wHxIn"
      },
      "outputs": [],
      "source": [
        "import numpy as np\n",
        "import random\n",
        "\n",
        "rewards = np.array([\n",
        "    [-1,-1,-1,-1,0,-1],\n",
        "    [-1,-1,-1,0,-1,100],\n",
        "    [-1,-1,-1,0,-1,-1],\n",
        "    [-1,0,0,-1,-1,-1],\n",
        "    [0,-1,-1,-1,-1,100],\n",
        "    [-1,-1,-1,-1,0,100]\n",
        "])\n",
        "\n"
      ]
    },
    {
      "cell_type": "code",
      "source": [
        "def set_initial_state():\n",
        "  return np.random.randint(0,6)\n",
        "\n",
        "set_initial_state()"
      ],
      "metadata": {
        "colab": {
          "base_uri": "https://localhost:8080/"
        },
        "id": "6I9_QO6uJL0G",
        "outputId": "c5bc6e16-255f-4a7b-b4ad-f61c9db51c04"
      },
      "execution_count": 11,
      "outputs": [
        {
          "output_type": "execute_result",
          "data": {
            "text/plain": [
              "2"
            ]
          },
          "metadata": {},
          "execution_count": 11
        }
      ]
    },
    {
      "cell_type": "code",
      "source": [
        "def get_action(current_state , reward_matrix):\n",
        "  available_action = []\n",
        "  print(\"Reward_matrix\",\"\\n\" , reward_matrix)\n",
        "\n",
        "  for action in enumerate(reward_matrix[current_state]):\n",
        "    if action[1] != -1 :\n",
        "      available_action.append(action[0])\n",
        "\n",
        "  choose_action = random.choice(available_action)\n",
        "  print(\"Random choice of action from\" , available_action , \"is\" , choose_action)\n",
        "  return choose_action"
      ],
      "metadata": {
        "id": "gn3TLIgwJpjl"
      },
      "execution_count": 12,
      "outputs": []
    },
    {
      "cell_type": "code",
      "source": [
        "current_state = 3\n",
        "action = get_action(current_state , rewards)\n",
        "print(action)"
      ],
      "metadata": {
        "colab": {
          "base_uri": "https://localhost:8080/"
        },
        "id": "8JMRDF_CK_V2",
        "outputId": "83985d7d-1975-41eb-9801-ad4b069ebf0d"
      },
      "execution_count": 13,
      "outputs": [
        {
          "output_type": "stream",
          "name": "stdout",
          "text": [
            "Reward_matrix \n",
            " [[ -1  -1  -1  -1   0  -1]\n",
            " [ -1  -1  -1   0  -1 100]\n",
            " [ -1  -1  -1   0  -1  -1]\n",
            " [ -1   0   0  -1  -1  -1]\n",
            " [  0  -1  -1  -1  -1 100]\n",
            " [ -1  -1  -1  -1   0 100]]\n",
            "Random choice of action from [1, 2] is 2\n",
            "2\n"
          ]
        }
      ]
    },
    {
      "cell_type": "code",
      "source": [
        "current_state = 4\n",
        "action = get_action(current_state , rewards)\n",
        "print(action)"
      ],
      "metadata": {
        "colab": {
          "base_uri": "https://localhost:8080/"
        },
        "id": "RNCQHeKwLU4V",
        "outputId": "0621e165-fb5c-41f6-a509-6b6305102b5d"
      },
      "execution_count": 14,
      "outputs": [
        {
          "output_type": "stream",
          "name": "stdout",
          "text": [
            "Reward_matrix \n",
            " [[ -1  -1  -1  -1   0  -1]\n",
            " [ -1  -1  -1   0  -1 100]\n",
            " [ -1  -1  -1   0  -1  -1]\n",
            " [ -1   0   0  -1  -1  -1]\n",
            " [  0  -1  -1  -1  -1 100]\n",
            " [ -1  -1  -1  -1   0 100]]\n",
            "Random choice of action from [0, 5] is 0\n",
            "0\n"
          ]
        }
      ]
    },
    {
      "cell_type": "code",
      "source": [
        "current_state = 5\n",
        "action = get_action(current_state , rewards)\n",
        "print(action)"
      ],
      "metadata": {
        "colab": {
          "base_uri": "https://localhost:8080/"
        },
        "id": "rsOGBL14Lpr3",
        "outputId": "efe9b136-ba78-499c-d94f-5c56c2214c93"
      },
      "execution_count": 15,
      "outputs": [
        {
          "output_type": "stream",
          "name": "stdout",
          "text": [
            "Reward_matrix \n",
            " [[ -1  -1  -1  -1   0  -1]\n",
            " [ -1  -1  -1   0  -1 100]\n",
            " [ -1  -1  -1   0  -1  -1]\n",
            " [ -1   0   0  -1  -1  -1]\n",
            " [  0  -1  -1  -1  -1 100]\n",
            " [ -1  -1  -1  -1   0 100]]\n",
            "Random choice of action from [4, 5] is 5\n",
            "5\n"
          ]
        }
      ]
    },
    {
      "cell_type": "code",
      "source": [
        "current_state = 0\n",
        "action = get_action(current_state , rewards)\n",
        "print(action)"
      ],
      "metadata": {
        "colab": {
          "base_uri": "https://localhost:8080/"
        },
        "id": "qAUjx22bLr0j",
        "outputId": "fc478f87-ee32-45b5-f5a9-5bb1064d8b02"
      },
      "execution_count": 16,
      "outputs": [
        {
          "output_type": "stream",
          "name": "stdout",
          "text": [
            "Reward_matrix \n",
            " [[ -1  -1  -1  -1   0  -1]\n",
            " [ -1  -1  -1   0  -1 100]\n",
            " [ -1  -1  -1   0  -1  -1]\n",
            " [ -1   0   0  -1  -1  -1]\n",
            " [  0  -1  -1  -1  -1 100]\n",
            " [ -1  -1  -1  -1   0 100]]\n",
            "Random choice of action from [4] is 4\n",
            "4\n"
          ]
        }
      ]
    },
    {
      "cell_type": "code",
      "source": [
        "current_state = 1\n",
        "action = get_action(current_state , rewards)\n",
        "print(action)"
      ],
      "metadata": {
        "colab": {
          "base_uri": "https://localhost:8080/"
        },
        "id": "_LVK4wgjLtqf",
        "outputId": "c9a6e235-2d64-47e5-a42a-b47957c24874"
      },
      "execution_count": 17,
      "outputs": [
        {
          "output_type": "stream",
          "name": "stdout",
          "text": [
            "Reward_matrix \n",
            " [[ -1  -1  -1  -1   0  -1]\n",
            " [ -1  -1  -1   0  -1 100]\n",
            " [ -1  -1  -1   0  -1  -1]\n",
            " [ -1   0   0  -1  -1  -1]\n",
            " [  0  -1  -1  -1  -1 100]\n",
            " [ -1  -1  -1  -1   0 100]]\n",
            "Random choice of action from [3, 5] is 5\n",
            "5\n"
          ]
        }
      ]
    },
    {
      "cell_type": "code",
      "source": [
        "current_state = 2\n",
        "action = get_action(current_state , rewards)\n",
        "print(action)"
      ],
      "metadata": {
        "colab": {
          "base_uri": "https://localhost:8080/"
        },
        "id": "T7sXDlycLu4b",
        "outputId": "8bc752d7-629a-4ea1-f687-3b476f73c6a7"
      },
      "execution_count": 18,
      "outputs": [
        {
          "output_type": "stream",
          "name": "stdout",
          "text": [
            "Reward_matrix \n",
            " [[ -1  -1  -1  -1   0  -1]\n",
            " [ -1  -1  -1   0  -1 100]\n",
            " [ -1  -1  -1   0  -1  -1]\n",
            " [ -1   0   0  -1  -1  -1]\n",
            " [  0  -1  -1  -1  -1 100]\n",
            " [ -1  -1  -1  -1   0 100]]\n",
            "Random choice of action from [3] is 3\n",
            "3\n"
          ]
        }
      ]
    }
  ]
}